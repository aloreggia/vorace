{
  "nbformat": 4,
  "nbformat_minor": 0,
  "metadata": {
    "colab": {
      "name": "vorace_test.ipynb",
      "provenance": [],
      "collapsed_sections": [],
      "mount_file_id": "16N80-trqoI7uWRAY_lXE74wYwWrW3QM3",
      "authorship_tag": "ABX9TyNg2IC9V9DJgaNHmUFwCuFA",
      "include_colab_link": true
    },
    "kernelspec": {
      "name": "python3",
      "display_name": "Python 3"
    },
    "language_info": {
      "name": "python"
    }
  },
  "cells": [
    {
      "cell_type": "markdown",
      "metadata": {
        "id": "view-in-github",
        "colab_type": "text"
      },
      "source": [
        "<a href=\"https://colab.research.google.com/github/aloreggia/vorace/blob/main/vorace_test.ipynb\" target=\"_parent\"><img src=\"https://colab.research.google.com/assets/colab-badge.svg\" alt=\"Open In Colab\"/></a>"
      ]
    },
    {
      "cell_type": "code",
      "metadata": {
        "id": "sCgtOaJQzrmt"
      },
      "source": [
        "!cp \"/content/drive/MyDrive/vorace/Vorace.py\" ."
      ],
      "execution_count": null,
      "outputs": []
    },
    {
      "cell_type": "code",
      "metadata": {
        "colab": {
          "base_uri": "https://localhost:8080/"
        },
        "id": "KLYId-rdQqW9",
        "outputId": "14e51353-f672-4e39-b6cc-bbac6275c413"
      },
      "source": [
        " \n",
        "!pip install keras==2.2.4"
      ],
      "execution_count": null,
      "outputs": [
        {
          "output_type": "stream",
          "text": [
            "Requirement already satisfied: keras==2.2.4 in /usr/local/lib/python3.7/dist-packages (2.2.4)\n",
            "Requirement already satisfied: scipy>=0.14 in /usr/local/lib/python3.7/dist-packages (from keras==2.2.4) (1.4.1)\n",
            "Requirement already satisfied: six>=1.9.0 in /usr/local/lib/python3.7/dist-packages (from keras==2.2.4) (1.15.0)\n",
            "Requirement already satisfied: keras-applications>=1.0.6 in /usr/local/lib/python3.7/dist-packages (from keras==2.2.4) (1.0.8)\n",
            "Requirement already satisfied: numpy>=1.9.1 in /usr/local/lib/python3.7/dist-packages (from keras==2.2.4) (1.19.5)\n",
            "Requirement already satisfied: h5py in /usr/local/lib/python3.7/dist-packages (from keras==2.2.4) (2.10.0)\n",
            "Requirement already satisfied: pyyaml in /usr/local/lib/python3.7/dist-packages (from keras==2.2.4) (3.13)\n",
            "Requirement already satisfied: keras-preprocessing>=1.0.5 in /usr/local/lib/python3.7/dist-packages (from keras==2.2.4) (1.1.2)\n"
          ],
          "name": "stdout"
        }
      ]
    },
    {
      "cell_type": "code",
      "metadata": {
        "colab": {
          "base_uri": "https://localhost:8080/"
        },
        "id": "zZL9Cj2L0Mp7",
        "outputId": "ee9a354f-7a4b-4494-a2d5-74351dd0ee77"
      },
      "source": [
        "!pip install corankco"
      ],
      "execution_count": null,
      "outputs": [
        {
          "output_type": "stream",
          "text": [
            "Collecting corankco\n",
            "  Downloading https://files.pythonhosted.org/packages/c4/da/c67a69ff6354dfdecc6c74abb047f7b37287cbea33cae6c94e91d2e591a0/corankco-1.0.0-py3-none-any.whl\n",
            "Requirement already satisfied: numpy in /usr/local/lib/python3.7/dist-packages (from corankco) (1.19.5)\n",
            "Collecting bioconsertinc>=0.0.9\n",
            "  Downloading https://files.pythonhosted.org/packages/f9/18/0ad76b840c41b6106fe6442ca8af9a40dbe015d526f1cdcdd38833226bb6/bioconsertinc-0.1.0.tar.gz\n",
            "Collecting python-igraph\n",
            "\u001b[?25l  Downloading https://files.pythonhosted.org/packages/ae/12/1fbdb491d89fad8abb7aca0189978655cfdc984a380b846478f2ccdfdad8/python_igraph-0.9.1-cp37-cp37m-manylinux2010_x86_64.whl (3.2MB)\n",
            "\u001b[K     |████████████████████████████████| 3.2MB 7.6MB/s \n",
            "\u001b[?25hCollecting pulp==2.3\n",
            "\u001b[?25l  Downloading https://files.pythonhosted.org/packages/c3/22/5743d7b5d69f84fb63a0b4925862522dbf80e82defcd0c447afb694f3fd0/PuLP-2.3-py3-none-any.whl (40.6MB)\n",
            "\u001b[K     |████████████████████████████████| 40.6MB 94kB/s \n",
            "\u001b[?25hCollecting texttable>=1.6.2\n",
            "  Downloading https://files.pythonhosted.org/packages/06/f5/46201c428aebe0eecfa83df66bf3e6caa29659dbac5a56ddfd83cae0d4a4/texttable-1.6.3-py2.py3-none-any.whl\n",
            "Collecting amply>=0.1.2\n",
            "  Downloading https://files.pythonhosted.org/packages/f3/c5/dfa09dd2595a2ab2ab4e6fa7bebef9565812722e1980d04b0edce5032066/amply-0.1.4-py3-none-any.whl\n",
            "Requirement already satisfied: docutils>=0.3 in /usr/local/lib/python3.7/dist-packages (from amply>=0.1.2->pulp==2.3->corankco) (0.17)\n",
            "Requirement already satisfied: pyparsing in /usr/local/lib/python3.7/dist-packages (from amply>=0.1.2->pulp==2.3->corankco) (2.4.7)\n",
            "Building wheels for collected packages: bioconsertinc\n",
            "  Building wheel for bioconsertinc (setup.py) ... \u001b[?25l\u001b[?25hdone\n",
            "  Created wheel for bioconsertinc: filename=bioconsertinc-0.1.0-cp37-cp37m-linux_x86_64.whl size=28638 sha256=f98d43a3a9c46df6d0951421d9c587d44df0686ae1bae90b4bc2b9b27738bd6f\n",
            "  Stored in directory: /root/.cache/pip/wheels/13/7d/42/e242d80f4c4f890b0ede5666cbb9d9d4d19da9ed40f8ffdfee\n",
            "Successfully built bioconsertinc\n",
            "Installing collected packages: bioconsertinc, texttable, python-igraph, amply, pulp, corankco\n",
            "Successfully installed amply-0.1.4 bioconsertinc-0.1.0 corankco-1.0.0 pulp-2.3 python-igraph-0.9.1 texttable-1.6.3\n"
          ],
          "name": "stdout"
        }
      ]
    },
    {
      "cell_type": "code",
      "metadata": {
        "id": "5EUcdmIf0Avv",
        "colab": {
          "base_uri": "https://localhost:8080/",
          "height": 343
        },
        "outputId": "edbceed4-9f99-4c99-ff28-ba5864cb8a79"
      },
      "source": [
        " \n",
        " \n",
        "!pip uninstall --yes keras\n",
        "!pip install keras==2.2.4\n",
        " \n",
        "import os\n",
        " \n",
        "os.environ[\"KERAS_BACKEND\"] = \"theano\"\n",
        "import keras.backend \n",
        "#keras.backend.set_image_dim_ordering('th')\n",
        " \n",
        "from Vorace import Vorace\n",
        "from keras.callbacks import EarlyStopping\n",
        "from sklearn.datasets import load_iris\n",
        "from sklearn.model_selection import train_test_split\n",
        "from keras.utils import to_categorical\n",
        "import numpy as np\n",
        "from sklearn.metrics import accuracy_score\n",
        "from sklearn.metrics import confusion_matrix\n",
        " \n",
        "df = load_iris(return_X_y=True)"
      ],
      "execution_count": null,
      "outputs": [
        {
          "output_type": "stream",
          "text": [
            "Uninstalling Keras-2.2.4:\n",
            "  Successfully uninstalled Keras-2.2.4\n",
            "Collecting keras==2.2.4\n",
            "  Using cached https://files.pythonhosted.org/packages/5e/10/aa32dad071ce52b5502266b5c659451cfd6ffcbf14e6c8c4f16c0ff5aaab/Keras-2.2.4-py2.py3-none-any.whl\n",
            "Requirement already satisfied: pyyaml in /usr/local/lib/python3.7/dist-packages (from keras==2.2.4) (3.13)\n",
            "Requirement already satisfied: scipy>=0.14 in /usr/local/lib/python3.7/dist-packages (from keras==2.2.4) (1.4.1)\n",
            "Requirement already satisfied: h5py in /usr/local/lib/python3.7/dist-packages (from keras==2.2.4) (2.10.0)\n",
            "Requirement already satisfied: six>=1.9.0 in /usr/local/lib/python3.7/dist-packages (from keras==2.2.4) (1.15.0)\n",
            "Requirement already satisfied: numpy>=1.9.1 in /usr/local/lib/python3.7/dist-packages (from keras==2.2.4) (1.19.5)\n",
            "Requirement already satisfied: keras-applications>=1.0.6 in /usr/local/lib/python3.7/dist-packages (from keras==2.2.4) (1.0.8)\n",
            "Requirement already satisfied: keras-preprocessing>=1.0.5 in /usr/local/lib/python3.7/dist-packages (from keras==2.2.4) (1.1.2)\n",
            "Installing collected packages: keras\n",
            "Successfully installed keras-2.2.4\n"
          ],
          "name": "stdout"
        },
        {
          "output_type": "display_data",
          "data": {
            "application/vnd.colab-display-data+json": {
              "pip_warning": {
                "packages": [
                  "keras"
                ]
              }
            }
          },
          "metadata": {
            "tags": []
          }
        }
      ]
    },
    {
      "cell_type": "code",
      "metadata": {
        "id": "uSW_PGE--i0k"
      },
      "source": [
        "earlystop = EarlyStopping(monitor='acc', min_delta=0.001, patience=3, verbose=0, mode='auto')\n",
        "callbacks_list = [earlystop]\n"
      ],
      "execution_count": null,
      "outputs": []
    },
    {
      "cell_type": "markdown",
      "metadata": {
        "id": "O2P2ONgeN_Op"
      },
      "source": [
        "Create a new instance of Vorace with 10 classifiers.\n",
        "Based on type, ensemble are made of:\n",
        "\n",
        "\n",
        "*   type 0: neural networks\n",
        "*   type 1: decision trees\n",
        "*   type 2: SVMs\n",
        "*   type 3: mixed ensmbles\n",
        "\n"
      ]
    },
    {
      "cell_type": "code",
      "metadata": {
        "id": "Qd_ASvrS9-V4"
      },
      "source": [
        "vorace = Vorace(n_models=10, profile_type=2, nInput=4, nClasses=3, batch_size=16)"
      ],
      "execution_count": null,
      "outputs": []
    },
    {
      "cell_type": "code",
      "metadata": {
        "id": "sL6cDy2MHuaE"
      },
      "source": [
        "X = df[0]\n",
        "y = df[1]\n",
        "y = np.asarray(y)\n",
        "y=y.reshape(-1,)\n",
        "y_oneHot=to_categorical(y,num_classes=3)"
      ],
      "execution_count": null,
      "outputs": []
    },
    {
      "cell_type": "code",
      "metadata": {
        "id": "S1f1mfAt_zHd"
      },
      "source": [
        "X_train, X_test, y_train, y_test = train_test_split(X, y, test_size=0.50, random_state=42)"
      ],
      "execution_count": null,
      "outputs": []
    },
    {
      "cell_type": "code",
      "metadata": {
        "id": "GAU5a767AKz5"
      },
      "source": [
        "y_oneHot=to_categorical(y_train,num_classes=3)\n",
        "y_train\n",
        " \n",
        "y_oneHot_test=to_categorical(y_test,num_classes=3)"
      ],
      "execution_count": null,
      "outputs": []
    },
    {
      "cell_type": "code",
      "metadata": {
        "id": "wXFOys-dAcQQ"
      },
      "source": [
        "vorace.fit(X_train, y_train, y_oneHot, bagging=False)"
      ],
      "execution_count": null,
      "outputs": []
    },
    {
      "cell_type": "code",
      "metadata": {
        "colab": {
          "base_uri": "https://localhost:8080/"
        },
        "id": "DpmfLCiaNkHd",
        "outputId": "7dc554ad-bf33-4dba-e630-f8c77227a46a"
      },
      "source": [
        "y_pred_vorace,_ = vorace.predict(voting=\"Plurality\",x=X_test,y=y_test, nClasses=3, argMax=True, tiebreak=\"best\")\n",
        "print(y_pred_vorace)\n",
        "print(y_test)\n",
        "#predictions = np.argmax(y_pred_vorace,axis=1)\n",
        "accuracy = accuracy_score(y_test, y_pred_vorace)\n",
        "print(accuracy)"
      ],
      "execution_count": null,
      "outputs": [
        {
          "output_type": "stream",
          "text": [
            "[1 0 2 1 1 0 1 2 1 1 2 0 0 0 0 1 2 1 1 2 0 2 0 2 2 2 2 2 0 0 0 0 1 0 0 2 1\n",
            " 0 0 0 2 1 1 0 0 1 1 2 1 2 1 2 1 0 2 1 0 0 0 1 2 0 0 0 1 0 1 2 0 1 2 0 1 2\n",
            " 1]\n",
            "[1 0 2 1 1 0 1 2 1 1 2 0 0 0 0 1 2 1 1 2 0 2 0 2 2 2 2 2 0 0 0 0 1 0 0 2 1\n",
            " 0 0 0 2 1 1 0 0 1 2 2 1 2 1 2 1 0 2 1 0 0 0 1 2 0 0 0 1 0 1 2 0 1 2 0 2 2\n",
            " 1]\n",
            "0.9733333333333334\n"
          ],
          "name": "stdout"
        }
      ]
    },
    {
      "cell_type": "code",
      "metadata": {
        "colab": {
          "base_uri": "https://localhost:8080/"
        },
        "id": "dbrabZXMNt6i",
        "outputId": "69c9b6d2-b506-4632-e3ab-8c6c4feda7c2"
      },
      "source": [
        "conf_mat = confusion_matrix(y_test, y_pred_vorace)\n",
        "print(conf_mat)"
      ],
      "execution_count": null,
      "outputs": [
        {
          "output_type": "stream",
          "text": [
            "[[29  0  0]\n",
            " [ 0 20  3]\n",
            " [ 0  3 20]]\n"
          ],
          "name": "stdout"
        }
      ]
    }
  ]
}