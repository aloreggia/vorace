{
  "nbformat": 4,
  "nbformat_minor": 0,
  "metadata": {
    "colab": {
      "name": "vorace_test.ipynb",
      "provenance": [],
      "collapsed_sections": [],
      "mount_file_id": "16N80-trqoI7uWRAY_lXE74wYwWrW3QM3",
      "authorship_tag": "ABX9TyPKA5jHgkTFWT5Nwiw/4GBy",
      "include_colab_link": true
    },
    "kernelspec": {
      "name": "python3",
      "display_name": "Python 3"
    },
    "language_info": {
      "name": "python"
    }
  },
  "cells": [
    {
      "cell_type": "markdown",
      "metadata": {
        "id": "view-in-github",
        "colab_type": "text"
      },
      "source": [
        "<a href=\"https://colab.research.google.com/github/aloreggia/vorace/blob/main/vorace_test.ipynb\" target=\"_parent\"><img src=\"https://colab.research.google.com/assets/colab-badge.svg\" alt=\"Open In Colab\"/></a>"
      ]
    },
    {
      "cell_type": "code",
      "metadata": {
        "id": "5EUcdmIf0Avv"
      },
      "source": [
        "from Vorace import Vorace\n",
        "from keras.callbacks import EarlyStopping\n",
        "from sklearn.datasets import load_iris\n",
        "from sklearn.model_selection import train_test_split\n",
        "from keras.utils import to_categorical\n",
        "import numpy as np\n",
        "from sklearn.metrics import accuracy_score\n",
        "from sklearn.metrics import confusion_matrix\n",
        " \n",
        "df = load_iris(return_X_y=True)"
      ],
      "execution_count": null,
      "outputs": []
    },
    {
      "cell_type": "markdown",
      "metadata": {
        "id": "O2P2ONgeN_Op"
      },
      "source": [
        "Create a new instance of Vorace with 10 classifiers.\n",
        "Based on type, ensemble are made of:\n",
        "\n",
        "\n",
        "*   type 0: neural networks\n",
        "*   type 1: decision trees\n",
        "*   type 2: SVMs\n",
        "*   type 3: mixed ensmbles\n",
        "\n"
      ]
    },
    {
      "cell_type": "code",
      "metadata": {
        "id": "Qd_ASvrS9-V4"
      },
      "source": [
        "vorace = Vorace(n_models=10, profile_type=2, nInput=4, nClasses=3, batch_size=16)"
      ],
      "execution_count": null,
      "outputs": []
    },
    {
      "cell_type": "code",
      "metadata": {
        "id": "sL6cDy2MHuaE"
      },
      "source": [
        "X = df[0]\n",
        "y = df[1]\n",
        "y = np.asarray(y)\n",
        "y=y.reshape(-1,)\n",
        "y_oneHot=to_categorical(y,num_classes=3)"
      ],
      "execution_count": null,
      "outputs": []
    },
    {
      "cell_type": "code",
      "metadata": {
        "id": "S1f1mfAt_zHd"
      },
      "source": [
        "X_train, X_test, y_train, y_test = train_test_split(X, y, test_size=0.50, random_state=42)"
      ],
      "execution_count": null,
      "outputs": []
    },
    {
      "cell_type": "code",
      "metadata": {
        "id": "GAU5a767AKz5"
      },
      "source": [
        "y_oneHot=to_categorical(y_train,num_classes=3)\n",
        "y_train\n",
        " \n",
        "y_oneHot_test=to_categorical(y_test,num_classes=3)"
      ],
      "execution_count": null,
      "outputs": []
    },
    {
      "cell_type": "code",
      "metadata": {
        "id": "wXFOys-dAcQQ"
      },
      "source": [
        "vorace.fit(X_train, y_train, y_oneHot, bagging=False)"
      ],
      "execution_count": null,
      "outputs": []
    },
    {
      "cell_type": "code",
      "metadata": {
        "colab": {
          "base_uri": "https://localhost:8080/"
        },
        "id": "DpmfLCiaNkHd",
        "outputId": "7dc554ad-bf33-4dba-e630-f8c77227a46a"
      },
      "source": [
        "y_pred_vorace,_ = vorace.predict(voting=\"Plurality\",x=X_test,y=y_test, nClasses=3, argMax=True, tiebreak=\"best\")\n",
        "print(y_pred_vorace)\n",
        "print(y_test)\n",
        "#predictions = np.argmax(y_pred_vorace,axis=1)\n",
        "accuracy = accuracy_score(y_test, y_pred_vorace)\n",
        "print(accuracy)"
      ],
      "execution_count": null,
      "outputs": [
        {
          "output_type": "stream",
          "text": [
            "[1 0 2 1 1 0 1 2 1 1 2 0 0 0 0 1 2 1 1 2 0 2 0 2 2 2 2 2 0 0 0 0 1 0 0 2 1\n",
            " 0 0 0 2 1 1 0 0 1 1 2 1 2 1 2 1 0 2 1 0 0 0 1 2 0 0 0 1 0 1 2 0 1 2 0 1 2\n",
            " 1]\n",
            "[1 0 2 1 1 0 1 2 1 1 2 0 0 0 0 1 2 1 1 2 0 2 0 2 2 2 2 2 0 0 0 0 1 0 0 2 1\n",
            " 0 0 0 2 1 1 0 0 1 2 2 1 2 1 2 1 0 2 1 0 0 0 1 2 0 0 0 1 0 1 2 0 1 2 0 2 2\n",
            " 1]\n",
            "0.9733333333333334\n"
          ],
          "name": "stdout"
        }
      ]
    },
    {
      "cell_type": "code",
      "metadata": {
        "colab": {
          "base_uri": "https://localhost:8080/"
        },
        "id": "dbrabZXMNt6i",
        "outputId": "69c9b6d2-b506-4632-e3ab-8c6c4feda7c2"
      },
      "source": [
        "conf_mat = confusion_matrix(y_test, y_pred_vorace)\n",
        "print(conf_mat)"
      ],
      "execution_count": null,
      "outputs": [
        {
          "output_type": "stream",
          "text": [
            "[[29  0  0]\n",
            " [ 0 20  3]\n",
            " [ 0  3 20]]\n"
          ],
          "name": "stdout"
        }
      ]
    }
  ]
}