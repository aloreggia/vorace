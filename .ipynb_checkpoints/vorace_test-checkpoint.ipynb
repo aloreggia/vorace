{
 "cells": [
  {
   "cell_type": "code",
   "execution_count": 1,
   "metadata": {
    "id": "5EUcdmIf0Avv"
   },
   "outputs": [
    {
     "name": "stderr",
     "output_type": "stream",
     "text": [
      "Using Theano backend.\n"
     ]
    }
   ],
   "source": [
    "from Vorace import Vorace\n",
    "from keras.callbacks import EarlyStopping\n",
    "from sklearn.datasets import load_iris\n",
    "from sklearn.model_selection import train_test_split\n",
    "from keras.utils import to_categorical\n",
    "import numpy as np\n",
    "from sklearn.metrics import accuracy_score\n",
    "from sklearn.metrics import confusion_matrix\n",
    " \n",
    "df = load_iris(return_X_y=True)"
   ]
  },
  {
   "cell_type": "markdown",
   "metadata": {
    "id": "O2P2ONgeN_Op"
   },
   "source": [
    "Create a new instance of Vorace with 10 classifiers.\n",
    "Based on type, ensemble are made of:\n",
    "\n",
    "\n",
    "*   type 0: neural networks\n",
    "*   type 1: decision trees\n",
    "*   type 2: SVMs\n",
    "*   type 3: mixed ensmbles\n",
    "\n"
   ]
  },
  {
   "cell_type": "code",
   "execution_count": 2,
   "metadata": {
    "id": "Qd_ASvrS9-V4"
   },
   "outputs": [],
   "source": [
    "vorace = Vorace(n_models=10, profile_type=3, nInput=4, nClasses=3, batch_size=16)"
   ]
  },
  {
   "cell_type": "code",
   "execution_count": 3,
   "metadata": {
    "id": "sL6cDy2MHuaE"
   },
   "outputs": [],
   "source": [
    "X = df[0]\n",
    "y = df[1]\n",
    "y = np.asarray(y)\n",
    "y=y.reshape(-1,)\n",
    "y_oneHot=to_categorical(y,num_classes=3)"
   ]
  },
  {
   "cell_type": "code",
   "execution_count": 4,
   "metadata": {
    "id": "S1f1mfAt_zHd"
   },
   "outputs": [],
   "source": [
    "X_train, X_test, y_train, y_test = train_test_split(X, y, test_size=0.20, random_state=42)"
   ]
  },
  {
   "cell_type": "code",
   "execution_count": 5,
   "metadata": {
    "id": "GAU5a767AKz5"
   },
   "outputs": [],
   "source": [
    "y_oneHot=to_categorical(y_train,num_classes=3)\n",
    "y_train\n",
    " \n",
    "y_oneHot_test=to_categorical(y_test,num_classes=3)"
   ]
  },
  {
   "cell_type": "code",
   "execution_count": 6,
   "metadata": {
    "id": "wXFOys-dAcQQ"
   },
   "outputs": [],
   "source": [
    "vorace.fit(X_train, y_train, y_oneHot, bagging=False)"
   ]
  },
  {
   "cell_type": "code",
   "execution_count": 7,
   "metadata": {
    "colab": {
     "base_uri": "https://localhost:8080/"
    },
    "id": "DpmfLCiaNkHd",
    "outputId": "7dc554ad-bf33-4dba-e630-f8c77227a46a"
   },
   "outputs": [
    {
     "name": "stdout",
     "output_type": "stream",
     "text": [
      "[1 0 2 1 1 0 1 2 1 1 2 0 0 0 0 1 2 1 1 2 0 2 0 2 2 2 2 2 0 0]\n",
      "[1 0 2 1 1 0 1 2 1 1 2 0 0 0 0 1 2 1 1 2 0 2 0 2 2 2 2 2 0 0]\n",
      "1.0\n"
     ]
    }
   ],
   "source": [
    "y_pred_vorace,_ = vorace.predict(voting=\"Plurality\",x=X_test, nClasses=3, argMax=True, tiebreak=\"best\")\n",
    "print(y_pred_vorace)\n",
    "print(y_test)\n",
    "\n",
    "accuracy = accuracy_score(y_test, y_pred_vorace)\n",
    "print(accuracy)"
   ]
  },
  {
   "cell_type": "code",
   "execution_count": 8,
   "metadata": {
    "colab": {
     "base_uri": "https://localhost:8080/"
    },
    "id": "dbrabZXMNt6i",
    "outputId": "69c9b6d2-b506-4632-e3ab-8c6c4feda7c2"
   },
   "outputs": [
    {
     "name": "stdout",
     "output_type": "stream",
     "text": [
      "[[10  0  0]\n",
      " [ 0  9  0]\n",
      " [ 0  0 11]]\n"
     ]
    }
   ],
   "source": [
    "conf_mat = confusion_matrix(y_test, y_pred_vorace)\n",
    "print(conf_mat)"
   ]
  }
 ],
 "metadata": {
  "colab": {
   "authorship_tag": "ABX9TyPKA5jHgkTFWT5Nwiw/4GBy",
   "collapsed_sections": [],
   "include_colab_link": true,
   "mount_file_id": "16N80-trqoI7uWRAY_lXE74wYwWrW3QM3",
   "name": "vorace_test.ipynb",
   "provenance": []
  },
  "kernelspec": {
   "display_name": "Python 3",
   "language": "python",
   "name": "python3"
  },
  "language_info": {
   "codemirror_mode": {
    "name": "ipython",
    "version": 3
   },
   "file_extension": ".py",
   "mimetype": "text/x-python",
   "name": "python",
   "nbconvert_exporter": "python",
   "pygments_lexer": "ipython3",
   "version": "3.7.3"
  }
 },
 "nbformat": 4,
 "nbformat_minor": 1
}
